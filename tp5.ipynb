{
 "cells": [
  {
   "cell_type": "markdown",
   "id": "8130f080",
   "metadata": {},
   "source": [
    "\n",
    "## Taller de Procesamiento de Señales - TP5 SVM\n",
    "### Alumno: Julián Stejman\n",
    "\n",
    "--- \n"
   ]
  },
  {
   "cell_type": "code",
   "execution_count": 19,
   "id": "a961c2fe",
   "metadata": {},
   "outputs": [
    {
     "data": {
      "text/plain": [
       "(272, 1)"
      ]
     },
     "execution_count": 19,
     "metadata": {},
     "output_type": "execute_result"
    }
   ],
   "source": [
    "from seaborn import load_dataset\n",
    "import pandas as pd\n",
    "\n",
    "geyser_ds = load_dataset(\"geyser\")\n",
    "geyser_ds_labels = []\n",
    "for kind in geyser_ds[\"kind\"]:\n",
    "    if kind == \"long\":\n",
    "        geyser_ds_labels.append(1)\n",
    "    elif kind == \"short\":\n",
    "        geyser_ds_labels.append(-1)  \n",
    "geyser_ds_labels = pd.DataFrame(geyser_ds_labels)\n",
    "geyser_ds_labels.shape\n"
   ]
  },
  {
   "attachments": {
    "image-2.png": {
     "image/png": "[encoded data removed]"
    }
   },
   "cell_type": "markdown",
   "id": "482afd46",
   "metadata": {},
   "source": [
    "![image-2.png](attachment:image-2.png)"
   ]
  },
  {
   "cell_type": "code",
   "execution_count": null,
   "id": "8801c45c",
   "metadata": {},
   "outputs": [],
   "source": [
    "from qpsolvers import solve_qp\n",
    "import numpy as np\n",
    "\n",
    "class SVM:\n",
    "    def __init__(self, C=1e-8, problem= \"primal\"):\n",
    "        self.C = C \n",
    "        self.problem = problem\n",
    "        self._fitted = False\n",
    "        self._w = None\n",
    "        self._b = None\n",
    "\n",
    "    def _fit_primal(self, X, y):\n",
    "        n_samples, n_features = X.shape\n",
    "        # Se crean las matrices para el problema primal\n",
    "        P = np.zeros((n_features + 1 + n_samples, n_features + 1 + n_samples))\n",
    "        P[:n_features, :n_features] = np.eye(n_features) # esto corresponde a los w\n",
    "        P[n_features, n_features] = 0 # esto corresponde al bias\n",
    "        P[n_features + 1:, n_features + 1:] = np.eye(n_samples) * self.C # esto corresponde a los slack variables\n",
    "        \n",
    "        q = np.zeros(n_features + 1 + n_samples) \n",
    "        q[n_features+1:] = 1 # esto hace que la función objetivo sea minimizar la suma de los slack variables\n",
    "        G = np.zeros((n_samples, n_features + 1 + n_samples))\n",
    "        h = np.ones(n_samples) * -1\n",
    "\n",
    "        for i in range(n_samples):\n",
    "            # los términos son negativos para que se cumpla que -yXw - b <= -1\n",
    "            # yXw + b >= 1\n",
    "            G[i, :n_features] = -y[i] * X[i] # términos w\n",
    "            G[i, n_features] = -y[i] # término b\n",
    "            G[i, n_features + 1 + i] = -1 # slack variable\n",
    "        # Se agrega la restricción de que los slack variables son mayores o iguales a 0\n",
    "        #ξ_i >= 0\n",
    "        #-ξ_i <= 0\n",
    "        G_slack = np.zeros((n_samples, n_features + 1 + n_samples))\n",
    "        G_slack[:, n_features + 1:] = -np.eye(n_samples)\n",
    "        h_slack = np.zeros(n_samples)\n",
    "        \n",
    "        G = np.vstack((G, G_slack))\n",
    "        h = np.hstack((h, h_slack))\n",
    "        sol = solve_qp(P, q, G, h)\n",
    "        self._w = sol[:n_features]\n",
    "        self._b = sol[n_features]\n",
    "    # se usa fi(x) = x para el problema dual\n",
    "    def _fit_dual(self,X, y): \n",
    "        n_samples, n_features = X.shape\n",
    "        K = X @ X.T  \n",
    "        P = np.outer(y, y) * K  # Kernel trick: K[i, j] = y[i] * y[j] * X[i] @ X[j]\n",
    "        q = -np.ones(n_samples)\n",
    "        G = np.zeros((n_samples, n_samples))\n",
    "        h = np.zeros(n_samples)\n",
    "        A = y.reshape(1, -1)\n",
    "        b = np.zeros(1)\n",
    "        # Se agrega la restricción de que los slack variables son mayores o iguales a 0 \n",
    "        #α_i >= 0\n",
    "        #-α_i <= 0\n",
    "        G_slack = np.zeros((n_samples, n_samples))\n",
    "        G_slack[:, :] = -np.eye(n_samples)\n",
    "        h_slack = np.zeros(n_samples)\n",
    "        G = np.vstack((-np.eye(n_samples), np.eye(n_samples)))\n",
    "        h = np.hstack((h, self.C * np.ones(n_samples)))\n",
    "        sol = solve_qp(P, q, G, h, A, b)\n",
    "        self._w = np.zeros(n_features)\n",
    "        for i in range(n_samples):\n",
    "            self._w += sol[i] * y[i] * X[i]\n",
    "        support_vector_indices = (sol > 1e-5) & (sol < 2e-5)  # Consider a small threshold to identify support vectors\n",
    "        if np.any(support_vector_indices):\n",
    "            self._b = np.mean(y[support_vector_indices] - X[support_vector_indices] @ self._w)\n",
    "        else: \n",
    "            self._b = 0\n",
    "        \n",
    "    def fit(self, X, y):\n",
    "        self._fitted = True\n",
    "        if self.problem == \"primal\":\n",
    "            return self._fit_primal(X, y)\n",
    "        elif self.problem == \"dual\":\n",
    "            return self._fit_dual(X, y)\n",
    "\n",
    "    def predict(self, X):\n",
    "        if not self._fitted:\n",
    "            raise Exception(\"Model not fitted yet.\")\n",
    "        \n",
    "        return np.sign(X @ self._w + self._b)"
   ]
  }
 ],
 "metadata": {
  "kernelspec": {
   "display_name": "Python 3",
   "language": "python",
   "name": "python3"
  },
  "language_info": {
   "codemirror_mode": {
    "name": "ipython",
    "version": 3
   },
   "file_extension": ".py",
   "mimetype": "text/x-python",
   "name": "python",
   "nbconvert_exporter": "python",
   "pygments_lexer": "ipython3",
   "version": "3.12.4"
  }
 },
 "nbformat": 4,
 "nbformat_minor": 5
}
