{
 "cells": [
  {
   "cell_type": "markdown",
   "id": "8130f080",
   "metadata": {},
   "source": [
    "\n",
    "## Taller de Procesamiento de Señales - TP5 SVM\n",
    "### Alumno: Julián Stejman\n",
    "\n",
    "--- \n"
   ]
  },
  {
   "cell_type": "code",
   "execution_count": 19,
   "id": "a961c2fe",
   "metadata": {},
   "outputs": [
    {
     "data": {
      "text/plain": [
       "(272, 1)"
      ]
     },
     "execution_count": 19,
     "metadata": {},
     "output_type": "execute_result"
    }
   ],
   "source": [
    "from seaborn import load_dataset\n",
    "import pandas as pd\n",
    "\n",
    "geyser_ds = load_dataset(\"geyser\")\n",
    "geyser_ds_labels = []\n",
    "for kind in geyser_ds[\"kind\"]:\n",
    "    if kind == \"long\":\n",
    "        geyser_ds_labels.append(1)\n",
    "    elif kind == \"short\":\n",
    "        geyser_ds_labels.append(-1)  \n",
    "geyser_ds_labels = pd.DataFrame(geyser_ds_labels)\n",
    "geyser_ds_labels.shape\n"
   ]
  },
  {
   "attachments": {
    "image.png": {
     "image/png": "[encoded data removed]"
    }
   },
   "cell_type": "markdown",
   "id": "482afd46",
   "metadata": {},
   "source": [
    "![image.png](attachment:image.png)"
   ]
  },
  {
   "cell_type": "code",
   "execution_count": 2,
   "id": "8801c45c",
   "metadata": {},
   "outputs": [],
   "source": [
    "from qpsolvers import solve_qp  \n",
    "import numpy as np\n",
    "\n",
    "class SVM:\n",
    "    def __init__(self, C=0, problem= \"primal\"):\n",
    "        self.C = C\n",
    "        self.problem = problem\n",
    "        self._fitted = False\n",
    "        self._w = None\n",
    "        self._b = None\n",
    "\n",
    "    def _fit_primal(self, X, y):\n",
    "        n_samples, n_features = X.shape\n",
    "        # Se crean las matrices para el problema primal\n",
    "        P = np.zeros((n_features + 1 + n_samples, n_features + 1 + n_samples))\n",
    "        P[:n_features, :n_features] = np.eye(n_features) # esto corresponde a los w\n",
    "        P[n_features, n_features] = 0 # esto corresponde al bias\n",
    "        P[n_features + 1:, n_features + 1:] = np.eye(n_samples) * self.C # esto corresponde a los slack variables\n",
    "        \n",
    "        q = np.zeros(n_features + 1 + n_samples) \n",
    "        q[n_features+1:] = 1 # esto hace que la función objetivo sea minimizar la suma de los slack variables\n",
    "        G = np.zeros((n_samples, n_features + 1 + n_samples))\n",
    "        h = np.ones(n_samples) * -1\n",
    "\n",
    "        for i in range(n_samples):\n",
    "            # los términos son negativos para que se cumpla que -yXw - b <= -1\n",
    "            # yXw + b >= 1\n",
    "            G[i, :n_features] = -y[i] * X[i] # términos w\n",
    "            G[i, n_features] = -y[i] # término b\n",
    "            G[i, n_features + 1 + i] = -1 # slack variable\n",
    "        # Se agrega la restricción de que los slack variables son mayores o iguales a 0\n",
    "        #ξ_i >= 0\n",
    "        #-ξ_i <= 0\n",
    "        G_slack = np.zeros((n_samples, n_features + 1 + n_samples))\n",
    "        G_slack[:, n_features + 1:] = -np.eye(n_samples)\n",
    "        h_slack = np.zeros(n_samples)\n",
    "        \n",
    "        G = np.vstack((G, G_slack))\n",
    "        h = np.hstack((h, h_slack))\n",
    "        sol = solve_qp(P, q, G, h)\n",
    "        self._w = sol[:-1]\n",
    "        self._b = sol[-1]\n",
    "    def _fit_dual(X, y): \n",
    "        pass\n",
    "    \n",
    "    \n",
    "    def fit(self, X, y):\n",
    "        self._fitted = True\n",
    "        if self.problem == \"primal\":\n",
    "            return self._fit_primal(X, y)\n",
    "        elif self.problem == \"dual\":\n",
    "            return self._fit_dual(X, y)\n",
    "\n",
    "    def predict(self, X):\n",
    "        if not self._fitted:\n",
    "            raise Exception(\"Model not fitted yet.\")\n",
    "        \n",
    "        return np.sign(X @ self._w + self._b)"
   ]
  }
 ],
 "metadata": {
  "kernelspec": {
   "display_name": "base",
   "language": "python",
   "name": "python3"
  },
  "language_info": {
   "codemirror_mode": {
    "name": "ipython",
    "version": 3
   },
   "file_extension": ".py",
   "mimetype": "text/x-python",
   "name": "python",
   "nbconvert_exporter": "python",
   "pygments_lexer": "ipython3",
   "version": "3.12.7"
  }
 },
 "nbformat": 4,
 "nbformat_minor": 5
}
