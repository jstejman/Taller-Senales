{
 "cells": [
  {
   "cell_type": "markdown",
   "metadata": {},
   "source": [
    "Se tiene X e Y variables aleatorias con densidad de probabilidad conjunta:\n",
    "\n",
    "$$f_{X Y}(x,y) = \\frac{3}{4}  𝟙\\{0 < y < 1 + x^2, x \\in (0,1)\\}$$\n",
    "\n",
    "1. Calcular esperanza condicional\n",
    "2. Calcular error bayesiano\n",
    "3. Calcular recta de regresión\n",
    "---"
   ]
  },
  {
   "cell_type": "markdown",
   "metadata": {},
   "source": [
    "### 1. Calcular esperanza condicional:\n",
    "$f_{XY}(x,y)$ se puede reescribir como \n",
    "$$\n",
    "f_{XY}(x,y) = \\frac{1}{1+x^2}𝟙\\{0<y<1+x^2\\} \\cdot \\frac{3}{4}(1+x^2)𝟙\\{x \\in (0,1)\\}\n",
    "$$\n",
    "donde el primer término corresponde a la distribución condicional de Y: $f_{Y|X=x}$ y la segunda es la distribución marginal de x: $f_x$. Entonces se puede decir que $Y|X=x \\sim U(0,1+x^2)$. \n",
    "$$\n",
    "\\mathbb{E}[Y|X=x] = \\frac{1+x^2}{2} \n",
    "$$\n"
   ]
  },
  {
   "cell_type": "markdown",
   "metadata": {},
   "source": [
    "### 2. Calcular error bayesiano\n",
    "El error bayesiano se define como $\\mathbb{E}[var(Y|X)]$.\n",
    "Como la varianza de una variable uniforme $u \\sim U(a,b)$ es $= \\frac{(b-a)^2}{12}$\n",
    "$$\n",
    "var(Y|X)  =\\frac{(1+x^2)^2}{12}\n",
    "$$\n",
    "$$\n",
    "\\implies \\mathbb{E}[var(Y|X)] = \\int_0^1 var(Y|X)f_X(x)dx = \\int_0^1 \\frac{(1+x^2)^3}{16}dx = \\frac{6}{35}\n",
    "$$"
   ]
  },
  {
   "cell_type": "markdown",
   "metadata": {},
   "source": [
    "### 3. Calcular recta de regresión:\n",
    "La aproximación de Y a través de la recta de regresión de X es $\\hat{Y}= aX+b$ para algunos específicos $ a,b \\in \\mathbb{R}$ y se cumple que $\\mathbb{E}[(Y-\\hat{Y})^2]$ es mínima cuando $a = \\frac{cov(X,Y)}{var(X)}$ y $b= \\mathbb{E}[Y] - a\\mathbb{E}[X]$. \n",
    "\n",
    "Para calcular los valores de a y b se requieren $\\mathbb{E}[X], \\mathbb{E}[X^2], \\mathbb{E}[X^3], \\mathbb{E}[Y], \\mathbb{E}[XY], cov(X,Y)$ y $var(X)$. \n",
    "\n",
    "- $\\mathbb{E}[X] = \\int_0^1 x \\cdot f_x(x) dx = \\int_0^1 x \\cdot \\frac{3}{4}(1+x^2)dx = \\frac{9}{16}$\n",
    "  \n",
    "- $\\mathbb{E}[X^2] = \\int_0^1 x^2 \\cdot f_x(x) dx = \\int_0^1 x^2 \\cdot \\frac{3}{4}(1+x^2)dx = \\frac{2}{5}$\n",
    "  \n",
    "- $\\mathbb{E}[X^3] = \\int_0^1 x^3 \\cdot f_x(x) dx = \\int_0^1 x^3 \\cdot \\frac{3}{4}(1+x^2)dx = \\frac{5}{16}$\n",
    "\n",
    "- $\\mathbb{E}[Y] = \\mathbb{E}[\\mathbb{E}[Y|X]] = \\mathbb{E}[\\frac{1+X^2}{2}] = \\frac{1}{2}(1+ \\mathbb{E}[X^2]) = \\frac{1}{2}(1+\\frac{2}{5}) = \\frac{7}{10}$\n",
    "\n",
    "- $\\mathbb{E}[XY] = \\mathbb{E}[X \\cdot \\mathbb{E}[Y|X]] = \\mathbb{E}[X \\cdot \\frac{1+X^2}{2}] = \\frac{1}{2}(\\mathbb{E}[X] + \\mathbb{E}[X^3]) = \\frac{1}{2}(\\frac{9}{16} + \\frac{5}{16}) = \\frac{7}{16}$\n",
    "\n",
    "- $cov(X,Y) = \\mathbb{E}[XY] - \\mathbb{E}[X]\\mathbb{E}[Y] = \\frac{7}{16}- \\frac{9}{16} \\cdot \\frac{7}{10} = \\frac{7}{160}$\n",
    "\n",
    "- $var(X) = \\mathbb{E}[X^2] - \\mathbb{E}[X]^2 = \\frac{2}{5} - (\\frac{9}{16})^2 = \\frac{107}{1280}$\n",
    "\n",
    "$$\n",
    "a = \\frac{cov(X,Y)}{var(X)} = \\frac{\\frac{7}{160}}{\\frac{107}{1280}} = \\frac{56}{107}\n",
    "$$\n",
    "\n",
    "$$\n",
    "b = \\mathbb{E}[Y] - a\\mathbb{E}[X] = \\frac{7}{10} - \\frac{56}{107} \\cdot \\frac{9}{16} = \\frac{217}{535}\n",
    "$$\n",
    "\n",
    "$$\n",
    "\\hat{Y} = \\frac{56}{107}X + \\frac{217}{535}\n",
    "$$"
   ]
  },
  {
   "cell_type": "markdown",
   "metadata": {},
   "source": []
  }
 ],
 "metadata": {
  "language_info": {
   "name": "python"
  }
 },
 "nbformat": 4,
 "nbformat_minor": 2
}
